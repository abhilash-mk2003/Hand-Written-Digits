{
 "cells": [
  {
   "cell_type": "code",
   "execution_count": 39,
   "id": "b67f18e3",
   "metadata": {},
   "outputs": [],
   "source": [
    "import pyscreenshot as ImageGrab\n",
    "import time\n"
   ]
  },
  {
   "cell_type": "code",
   "execution_count": 61,
   "id": "0a5af819",
   "metadata": {},
   "outputs": [
    {
     "name": "stdout",
     "output_type": "stream",
     "text": [
      "saved...... 0\n",
      "clear screen now and redraw now........\n",
      "saved...... 1\n",
      "clear screen now and redraw now........\n",
      "saved...... 2\n",
      "clear screen now and redraw now........\n",
      "saved...... 3\n",
      "clear screen now and redraw now........\n",
      "saved...... 4\n",
      "clear screen now and redraw now........\n",
      "saved...... 5\n",
      "clear screen now and redraw now........\n",
      "saved...... 6\n",
      "clear screen now and redraw now........\n",
      "saved...... 7\n",
      "clear screen now and redraw now........\n",
      "saved...... 8\n",
      "clear screen now and redraw now........\n",
      "saved...... 9\n",
      "clear screen now and redraw now........\n",
      "saved...... 10\n",
      "clear screen now and redraw now........\n",
      "saved...... 11\n",
      "clear screen now and redraw now........\n",
      "saved...... 12\n",
      "clear screen now and redraw now........\n",
      "saved...... 13\n",
      "clear screen now and redraw now........\n",
      "saved...... 14\n",
      "clear screen now and redraw now........\n",
      "saved...... 15\n",
      "clear screen now and redraw now........\n",
      "saved...... 16\n",
      "clear screen now and redraw now........\n",
      "saved...... 17\n",
      "clear screen now and redraw now........\n",
      "saved...... 18\n",
      "clear screen now and redraw now........\n",
      "saved...... 19\n",
      "clear screen now and redraw now........\n",
      "saved...... 20\n",
      "clear screen now and redraw now........\n",
      "saved...... 21\n",
      "clear screen now and redraw now........\n",
      "saved...... 22\n",
      "clear screen now and redraw now........\n",
      "saved...... 23\n",
      "clear screen now and redraw now........\n",
      "saved...... 24\n",
      "clear screen now and redraw now........\n",
      "saved...... 25\n",
      "clear screen now and redraw now........\n",
      "saved...... 26\n",
      "clear screen now and redraw now........\n",
      "saved...... 27\n",
      "clear screen now and redraw now........\n",
      "saved...... 28\n",
      "clear screen now and redraw now........\n",
      "saved...... 29\n",
      "clear screen now and redraw now........\n",
      "saved...... 30\n",
      "clear screen now and redraw now........\n",
      "saved...... 31\n",
      "clear screen now and redraw now........\n",
      "saved...... 32\n",
      "clear screen now and redraw now........\n",
      "saved...... 33\n",
      "clear screen now and redraw now........\n",
      "saved...... 34\n",
      "clear screen now and redraw now........\n",
      "saved...... 35\n",
      "clear screen now and redraw now........\n",
      "saved...... 36\n",
      "clear screen now and redraw now........\n",
      "saved...... 37\n",
      "clear screen now and redraw now........\n",
      "saved...... 38\n",
      "clear screen now and redraw now........\n",
      "saved...... 39\n",
      "clear screen now and redraw now........\n",
      "saved...... 40\n",
      "clear screen now and redraw now........\n",
      "saved...... 41\n",
      "clear screen now and redraw now........\n",
      "saved...... 42\n",
      "clear screen now and redraw now........\n",
      "saved...... 43\n",
      "clear screen now and redraw now........\n",
      "saved...... 44\n",
      "clear screen now and redraw now........\n",
      "saved...... 45\n",
      "clear screen now and redraw now........\n",
      "saved...... 46\n",
      "clear screen now and redraw now........\n",
      "saved...... 47\n",
      "clear screen now and redraw now........\n",
      "saved...... 48\n",
      "clear screen now and redraw now........\n",
      "saved...... 49\n",
      "clear screen now and redraw now........\n",
      "saved...... 50\n",
      "clear screen now and redraw now........\n",
      "saved...... 51\n",
      "clear screen now and redraw now........\n",
      "saved...... 52\n",
      "clear screen now and redraw now........\n",
      "saved...... 53\n",
      "clear screen now and redraw now........\n",
      "saved...... 54\n",
      "clear screen now and redraw now........\n",
      "saved...... 55\n",
      "clear screen now and redraw now........\n",
      "saved...... 56\n",
      "clear screen now and redraw now........\n",
      "saved...... 57\n",
      "clear screen now and redraw now........\n",
      "saved...... 58\n",
      "clear screen now and redraw now........\n",
      "saved...... 59\n",
      "clear screen now and redraw now........\n",
      "saved...... 60\n",
      "clear screen now and redraw now........\n",
      "saved...... 61\n",
      "clear screen now and redraw now........\n",
      "saved...... 62\n",
      "clear screen now and redraw now........\n",
      "saved...... 63\n",
      "clear screen now and redraw now........\n",
      "saved...... 64\n",
      "clear screen now and redraw now........\n",
      "saved...... 65\n",
      "clear screen now and redraw now........\n",
      "saved...... 66\n",
      "clear screen now and redraw now........\n",
      "saved...... 67\n",
      "clear screen now and redraw now........\n",
      "saved...... 68\n",
      "clear screen now and redraw now........\n",
      "saved...... 69\n",
      "clear screen now and redraw now........\n",
      "saved...... 70\n",
      "clear screen now and redraw now........\n",
      "saved...... 71\n",
      "clear screen now and redraw now........\n",
      "saved...... 72\n",
      "clear screen now and redraw now........\n",
      "saved...... 73\n",
      "clear screen now and redraw now........\n",
      "saved...... 74\n",
      "clear screen now and redraw now........\n",
      "saved...... 75\n",
      "clear screen now and redraw now........\n",
      "saved...... 76\n",
      "clear screen now and redraw now........\n",
      "saved...... 77\n",
      "clear screen now and redraw now........\n",
      "saved...... 78\n",
      "clear screen now and redraw now........\n",
      "saved...... 79\n",
      "clear screen now and redraw now........\n",
      "saved...... 80\n",
      "clear screen now and redraw now........\n",
      "saved...... 81\n",
      "clear screen now and redraw now........\n",
      "saved...... 82\n",
      "clear screen now and redraw now........\n",
      "saved...... 83\n",
      "clear screen now and redraw now........\n",
      "saved...... 84\n",
      "clear screen now and redraw now........\n",
      "saved...... 85\n",
      "clear screen now and redraw now........\n",
      "saved...... 86\n",
      "clear screen now and redraw now........\n",
      "saved...... 87\n",
      "clear screen now and redraw now........\n",
      "saved...... 88\n",
      "clear screen now and redraw now........\n",
      "saved...... 89\n",
      "clear screen now and redraw now........\n",
      "saved...... 90\n",
      "clear screen now and redraw now........\n",
      "saved...... 91\n",
      "clear screen now and redraw now........\n",
      "saved...... 92\n",
      "clear screen now and redraw now........\n",
      "saved...... 93\n",
      "clear screen now and redraw now........\n",
      "saved...... 94\n",
      "clear screen now and redraw now........\n",
      "saved...... 95\n",
      "clear screen now and redraw now........\n",
      "saved...... 96\n",
      "clear screen now and redraw now........\n",
      "saved...... 97\n",
      "clear screen now and redraw now........\n",
      "saved...... 98\n",
      "clear screen now and redraw now........\n",
      "saved...... 99\n",
      "clear screen now and redraw now........\n"
     ]
    }
   ],
   "source": [
    "def one_time():\n",
    "    images_folder=\"captured_images/9/\"\n",
    "\n",
    "    for i in range(0,100):\n",
    "       time.sleep(8)\n",
    "       im=ImageGrab.grab(bbox=(200,300,540,680)) #x1,y1,x2,y2\n",
    "       print(\"saved......\",i)\n",
    "       im.save(images_folder+str(i)+'.png')\n",
    "       print(\"clear screen now and redraw now........\")"
   ]
  },
  {
   "cell_type": "code",
   "execution_count": 1,
   "id": "a14b7eb1",
   "metadata": {
    "scrolled": true
   },
   "outputs": [],
   "source": [
    "import cv2\n",
    "import csv\n",
    "import glob\n",
    "  \n",
    "header  =[\"label\"]\n",
    "for i in range(0,784):\n",
    "   header.append(\"pixel\"+str(i))\n",
    "with open('dataset.csv', 'a') as f:\n",
    "   writer = csv.writer(f)\n",
    "   writer.writerow(header)\n",
    "    \n",
    "for label in range(10):\n",
    "   dirList = glob.glob(\"captured_images/\"+str(label)+\"/*.png\")\n",
    "    \n",
    "   for img_path in dirList:\n",
    "       im= cv2.imread(img_path)\n",
    "       im_gray = cv2.cvtColor(im,cv2.COLOR_BGR2GRAY)\n",
    "       im_gray = cv2.GaussianBlur(im_gray,(15,15), 0)\n",
    "       roi= cv2.resize(im_gray,(28,28), interpolation=cv2.INTER_AREA)\n",
    "        \n",
    "       data=[]\n",
    "       data.append(label)\n",
    "       rows, cols = roi.shape\n",
    "        \n",
    "       ## Fill the data array with pixels one by one.\n",
    "       for i in range(rows):\n",
    "           for j in range(cols):\n",
    "               k =roi[i,j]\n",
    "               if k>100:\n",
    "                   k=1\n",
    "               else:\n",
    "                   k=0\n",
    "               data.append(k)\n",
    "       with open('dataset.csv', 'a') as f:\n",
    "           writer = csv.writer(f)\n",
    "           writer.writerow(data)"
   ]
  },
  {
   "cell_type": "code",
   "execution_count": 2,
   "id": "f4d3ec60",
   "metadata": {},
   "outputs": [
    {
     "name": "stdout",
     "output_type": "stream",
     "text": [
      "     label  pixel0  pixel1  pixel2  pixel3  pixel4  pixel5  pixel6  pixel7  \\\n",
      "754      7       0       0       0       0       0       0       0       0   \n",
      "571      5       0       0       0       0       0       0       0       0   \n",
      "387      3       0       0       0       0       0       0       0       0   \n",
      "352      3       0       0       0       0       0       0       0       0   \n",
      "574      5       0       0       0       0       0       0       0       0   \n",
      "..     ...     ...     ...     ...     ...     ...     ...     ...     ...   \n",
      "612      6       0       0       0       0       0       0       0       0   \n",
      "118      1       0       0       0       0       0       0       0       0   \n",
      "262      2       0       0       0       0       0       0       0       0   \n",
      "696      6       0       0       0       0       0       0       0       0   \n",
      "473      4       0       0       0       0       0       0       0       0   \n",
      "\n",
      "     pixel8  ...  pixel774  pixel775  pixel776  pixel777  pixel778  pixel779  \\\n",
      "754       0  ...         0         0         0         0         0         0   \n",
      "571       0  ...         0         0         0         0         0         0   \n",
      "387       0  ...         0         0         0         0         0         0   \n",
      "352       0  ...         0         0         0         0         0         0   \n",
      "574       0  ...         0         0         0         0         0         0   \n",
      "..      ...  ...       ...       ...       ...       ...       ...       ...   \n",
      "612       0  ...         0         0         0         0         0         0   \n",
      "118       0  ...         0         0         0         0         0         0   \n",
      "262       0  ...         0         0         0         0         0         0   \n",
      "696       0  ...         0         0         0         0         0         0   \n",
      "473       0  ...         0         0         0         0         0         0   \n",
      "\n",
      "     pixel780  pixel781  pixel782  pixel783  \n",
      "754         0         0         0         0  \n",
      "571         0         0         0         0  \n",
      "387         0         0         0         0  \n",
      "352         0         0         0         0  \n",
      "574         0         0         0         0  \n",
      "..        ...       ...       ...       ...  \n",
      "612         0         0         0         0  \n",
      "118         0         0         0         0  \n",
      "262         0         0         0         0  \n",
      "696         0         0         0         0  \n",
      "473         0         0         0         0  \n",
      "\n",
      "[1000 rows x 785 columns]\n"
     ]
    }
   ],
   "source": [
    "import pandas as pd #pip install pandas\n",
    "from sklearn.utils import shuffle #pip install scikit-learn\n",
    " \n",
    "data = pd.read_csv('dataset.csv')\n",
    "data = shuffle(data)\n",
    "print(data)"
   ]
  },
  {
   "cell_type": "code",
   "execution_count": 3,
   "id": "a98bb9d8",
   "metadata": {},
   "outputs": [],
   "source": [
    "X = data.drop([\"label\"],axis=1)\n",
    "Y= data[\"label\"]"
   ]
  },
  {
   "cell_type": "code",
   "execution_count": 4,
   "id": "91c9b7b2",
   "metadata": {},
   "outputs": [
    {
     "name": "stderr",
     "output_type": "stream",
     "text": [
      "Matplotlib is building the font cache; this may take a moment.\n"
     ]
    },
    {
     "name": "stdout",
     "output_type": "stream",
     "text": [
      "3\n"
     ]
    },
    {
     "data": {
      "text/plain": [
       "<matplotlib.image.AxesImage at 0x2b63ea6c5f8>"
      ]
     },
     "execution_count": 4,
     "metadata": {},
     "output_type": "execute_result"
    },
    {
     "data": {
      "image/png": "[encoded data removed]",
      "text/plain": [
       "<Figure size 640x480 with 1 Axes>"
      ]
     },
     "metadata": {},
     "output_type": "display_data"
    }
   ],
   "source": [
    "import matplotlib.pyplot as plt\n",
    "import cv2\n",
    "idx = 314\n",
    "img = X.loc[idx].values.reshape(28,28)\n",
    "print(Y[idx])\n",
    "plt.imshow(img)"
   ]
  },
  {
   "cell_type": "code",
   "execution_count": 5,
   "id": "76e905f2",
   "metadata": {},
   "outputs": [],
   "source": [
    "from sklearn.model_selection import train_test_split\n",
    "train_x,test_x,train_y,test_y = train_test_split(X,Y, test_size = 0.2)"
   ]
  },
  {
   "cell_type": "code",
   "execution_count": 6,
   "id": "9b002909",
   "metadata": {},
   "outputs": [
    {
     "data": {
      "text/plain": [
       "['model/digit_recognizer']"
      ]
     },
     "execution_count": 6,
     "metadata": {},
     "output_type": "execute_result"
    }
   ],
   "source": [
    "import joblib\n",
    "from sklearn.svm import SVC\n",
    "classifier=SVC(kernel=\"linear\", random_state=6)\n",
    "classifier.fit(train_x,train_y)\n",
    "joblib.dump(classifier, \"model/digit_recognizer\")"
   ]
  },
  {
   "cell_type": "code",
   "execution_count": 7,
   "id": "7d0d41da",
   "metadata": {},
   "outputs": [
    {
     "name": "stdout",
     "output_type": "stream",
     "text": [
      "Accuracy=  0.945\n"
     ]
    }
   ],
   "source": [
    "from sklearn import metrics\n",
    "prediction=classifier.predict(test_x)\n",
    "print(\"Accuracy= \",metrics.accuracy_score(prediction, test_y))"
   ]
  },
  {
   "cell_type": "code",
   "execution_count": 1,
   "id": "a41495c9",
   "metadata": {},
   "outputs": [
    {
     "name": "stderr",
     "output_type": "stream",
     "text": [
      "C:\\Users\\91837\\AppData\\Local\\Programs\\Python\\Python37\\lib\\site-packages\\sklearn\\base.py:451: UserWarning: X does not have valid feature names, but SVC was fitted with feature names\n",
      "  \"X does not have valid feature names, but\"\n"
     ]
    },
    {
     "name": "stdout",
     "output_type": "stream",
     "text": [
      "Prediction: 2\n"
     ]
    },
    {
     "name": "stderr",
     "output_type": "stream",
     "text": [
      "C:\\Users\\91837\\AppData\\Local\\Programs\\Python\\Python37\\lib\\site-packages\\sklearn\\base.py:451: UserWarning: X does not have valid feature names, but SVC was fitted with feature names\n",
      "  \"X does not have valid feature names, but\"\n"
     ]
    },
    {
     "name": "stdout",
     "output_type": "stream",
     "text": [
      "Prediction: 2\n"
     ]
    },
    {
     "name": "stderr",
     "output_type": "stream",
     "text": [
      "C:\\Users\\91837\\AppData\\Local\\Programs\\Python\\Python37\\lib\\site-packages\\sklearn\\base.py:451: UserWarning: X does not have valid feature names, but SVC was fitted with feature names\n",
      "  \"X does not have valid feature names, but\"\n"
     ]
    },
    {
     "name": "stdout",
     "output_type": "stream",
     "text": [
      "Prediction: 2\n"
     ]
    },
    {
     "name": "stderr",
     "output_type": "stream",
     "text": [
      "C:\\Users\\91837\\AppData\\Local\\Programs\\Python\\Python37\\lib\\site-packages\\sklearn\\base.py:451: UserWarning: X does not have valid feature names, but SVC was fitted with feature names\n",
      "  \"X does not have valid feature names, but\"\n"
     ]
    },
    {
     "name": "stdout",
     "output_type": "stream",
     "text": [
      "Prediction: 2\n"
     ]
    },
    {
     "name": "stderr",
     "output_type": "stream",
     "text": [
      "C:\\Users\\91837\\AppData\\Local\\Programs\\Python\\Python37\\lib\\site-packages\\sklearn\\base.py:451: UserWarning: X does not have valid feature names, but SVC was fitted with feature names\n",
      "  \"X does not have valid feature names, but\"\n"
     ]
    },
    {
     "name": "stdout",
     "output_type": "stream",
     "text": [
      "Prediction: 2\n"
     ]
    },
    {
     "name": "stderr",
     "output_type": "stream",
     "text": [
      "C:\\Users\\91837\\AppData\\Local\\Programs\\Python\\Python37\\lib\\site-packages\\sklearn\\base.py:451: UserWarning: X does not have valid feature names, but SVC was fitted with feature names\n",
      "  \"X does not have valid feature names, but\"\n"
     ]
    },
    {
     "name": "stdout",
     "output_type": "stream",
     "text": [
      "Prediction: 2\n"
     ]
    },
    {
     "name": "stderr",
     "output_type": "stream",
     "text": [
      "C:\\Users\\91837\\AppData\\Local\\Programs\\Python\\Python37\\lib\\site-packages\\sklearn\\base.py:451: UserWarning: X does not have valid feature names, but SVC was fitted with feature names\n",
      "  \"X does not have valid feature names, but\"\n"
     ]
    },
    {
     "name": "stdout",
     "output_type": "stream",
     "text": [
      "Prediction: 2\n"
     ]
    },
    {
     "name": "stderr",
     "output_type": "stream",
     "text": [
      "C:\\Users\\91837\\AppData\\Local\\Programs\\Python\\Python37\\lib\\site-packages\\sklearn\\base.py:451: UserWarning: X does not have valid feature names, but SVC was fitted with feature names\n",
      "  \"X does not have valid feature names, but\"\n"
     ]
    },
    {
     "name": "stdout",
     "output_type": "stream",
     "text": [
      "Prediction: 2\n"
     ]
    },
    {
     "name": "stderr",
     "output_type": "stream",
     "text": [
      "C:\\Users\\91837\\AppData\\Local\\Programs\\Python\\Python37\\lib\\site-packages\\sklearn\\base.py:451: UserWarning: X does not have valid feature names, but SVC was fitted with feature names\n",
      "  \"X does not have valid feature names, but\"\n"
     ]
    },
    {
     "name": "stdout",
     "output_type": "stream",
     "text": [
      "Prediction: 2\n"
     ]
    },
    {
     "name": "stderr",
     "output_type": "stream",
     "text": [
      "C:\\Users\\91837\\AppData\\Local\\Programs\\Python\\Python37\\lib\\site-packages\\sklearn\\base.py:451: UserWarning: X does not have valid feature names, but SVC was fitted with feature names\n",
      "  \"X does not have valid feature names, but\"\n"
     ]
    },
    {
     "name": "stdout",
     "output_type": "stream",
     "text": [
      "Prediction: 0\n"
     ]
    },
    {
     "name": "stderr",
     "output_type": "stream",
     "text": [
      "C:\\Users\\91837\\AppData\\Local\\Programs\\Python\\Python37\\lib\\site-packages\\sklearn\\base.py:451: UserWarning: X does not have valid feature names, but SVC was fitted with feature names\n",
      "  \"X does not have valid feature names, but\"\n"
     ]
    },
    {
     "name": "stdout",
     "output_type": "stream",
     "text": [
      "Prediction: 0\n"
     ]
    },
    {
     "name": "stderr",
     "output_type": "stream",
     "text": [
      "C:\\Users\\91837\\AppData\\Local\\Programs\\Python\\Python37\\lib\\site-packages\\sklearn\\base.py:451: UserWarning: X does not have valid feature names, but SVC was fitted with feature names\n",
      "  \"X does not have valid feature names, but\"\n"
     ]
    },
    {
     "name": "stdout",
     "output_type": "stream",
     "text": [
      "Prediction: 0\n"
     ]
    },
    {
     "ename": "KeyboardInterrupt",
     "evalue": "",
     "output_type": "error",
     "traceback": [
      "\u001b[1;31m---------------------------------------------------------------------------\u001b[0m",
      "\u001b[1;31mKeyboardInterrupt\u001b[0m                         Traceback (most recent call last)",
      "\u001b[1;32m~\\AppData\\Local\\Temp\\ipykernel_30220\\1235458104.py\u001b[0m in \u001b[0;36m<module>\u001b[1;34m\u001b[0m\n\u001b[0;32m     41\u001b[0m    \u001b[0mcv2\u001b[0m\u001b[1;33m.\u001b[0m\u001b[0mnamedWindow\u001b[0m\u001b[1;33m(\u001b[0m\u001b[1;34m\"Result\"\u001b[0m\u001b[1;33m)\u001b[0m\u001b[1;33m\u001b[0m\u001b[1;33m\u001b[0m\u001b[0m\n\u001b[0;32m     42\u001b[0m    \u001b[0mcv2\u001b[0m\u001b[1;33m.\u001b[0m\u001b[0mimshow\u001b[0m\u001b[1;33m(\u001b[0m\u001b[1;34m\"Result\"\u001b[0m\u001b[1;33m,\u001b[0m\u001b[0mim\u001b[0m\u001b[1;33m)\u001b[0m\u001b[1;33m\u001b[0m\u001b[1;33m\u001b[0m\u001b[0m\n\u001b[1;32m---> 43\u001b[1;33m    \u001b[0mcv2\u001b[0m\u001b[1;33m.\u001b[0m\u001b[0mwaitKey\u001b[0m\u001b[1;33m(\u001b[0m\u001b[1;36m10000\u001b[0m\u001b[1;33m)\u001b[0m\u001b[1;33m\u001b[0m\u001b[1;33m\u001b[0m\u001b[0m\n\u001b[0m\u001b[0;32m     44\u001b[0m    \u001b[1;32mif\u001b[0m \u001b[0mcv2\u001b[0m\u001b[1;33m.\u001b[0m\u001b[0mwaitKey\u001b[0m\u001b[1;33m(\u001b[0m\u001b[1;36m1\u001b[0m\u001b[1;33m)\u001b[0m\u001b[1;33m==\u001b[0m\u001b[1;36m13\u001b[0m\u001b[1;33m:\u001b[0m \u001b[1;31m#27 is the ascii value of esc, 13 is the ascii value of enter\u001b[0m\u001b[1;33m\u001b[0m\u001b[1;33m\u001b[0m\u001b[0m\n\u001b[0;32m     45\u001b[0m        \u001b[1;32mbreak\u001b[0m\u001b[1;33m\u001b[0m\u001b[1;33m\u001b[0m\u001b[0m\n",
      "\u001b[1;31mKeyboardInterrupt\u001b[0m: "
     ]
    }
   ],
   "source": [
    "import joblib\n",
    "import cv2\n",
    "import numpy as np #pip install numpy\n",
    "import time\n",
    "import pyscreenshot as ImageGrab\n",
    "  \n",
    "model=joblib.load(\"model/digit_recognizer\")\n",
    "images_folder=\"img/\"\n",
    "  \n",
    "while True:\n",
    "   img=ImageGrab.grab(bbox=(200,300,540,680))\n",
    "    \n",
    "   img.save(images_folder+\"img.png\")\n",
    "   im = cv2.imread(images_folder+\"img.png\")\n",
    "   im_gray = cv2.cvtColor(im,cv2.COLOR_BGR2GRAY)\n",
    "   im_gray  =cv2.GaussianBlur(im_gray, (15,15), 0)\n",
    "    \n",
    "   #Threshold the image\n",
    "   ret, im_th = cv2.threshold(im_gray,100, 255, cv2.THRESH_BINARY)\n",
    "   roi = cv2.resize(im_th, (28,28), interpolation  =cv2.INTER_AREA)\n",
    "    \n",
    "   rows,cols=roi.shape\n",
    "    \n",
    "   X = []\n",
    "    \n",
    "   ##  Fill the data array with pixels one by one.\n",
    "   for i in range(rows):\n",
    "       for j in range(cols):\n",
    "           k = roi[i,j]\n",
    "           if k>100:\n",
    "               k=1\n",
    "           else:\n",
    "               k=0\n",
    "           X.append(k)\n",
    "            \n",
    "   predictions  =model.predict([X])\n",
    "   print(\"Prediction:\",predictions[0])\n",
    "   cv2.putText(im, \"Prediction is: \"+str(predictions[0]), (20,20), 0, 0.8,(0,255,0),2,cv2.LINE_AA)\n",
    "    \n",
    "   cv2.startWindowThread()\n",
    "   cv2.namedWindow(\"Result\")\n",
    "   cv2.imshow(\"Result\",im)\n",
    "   cv2.waitKey(10000)\n",
    "    \n",
    "   if cv2.waitKey(1)==13: #27 is the ascii value of esc, 13 is the ascii value of enter\n",
    "       break\\        \n",
    "        \n",
    "cv2.destroyAllWindows()"
   ]
  },
  {
   "cell_type": "code",
   "execution_count": null,
   "id": "f2ba95e9",
   "metadata": {},
   "outputs": [],
   "source": []
  }
 ],
 "metadata": {
  "kernelspec": {
   "display_name": "Python 3 (ipykernel)",
   "language": "python",
   "name": "python3"
  },
  "language_info": {
   "codemirror_mode": {
    "name": "ipython",
    "version": 3
   },
   "file_extension": ".py",
   "mimetype": "text/x-python",
   "name": "python",
   "nbconvert_exporter": "python",
   "pygments_lexer": "ipython3",
   "version": "3.7.3rc1"
  }
 },
 "nbformat": 4,
 "nbformat_minor": 5
}
